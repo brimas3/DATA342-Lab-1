{
  "nbformat": 4,
  "nbformat_minor": 0,
  "metadata": {
    "colab": {
      "provenance": [],
      "authorship_tag": "ABX9TyNwoGnfDzpuvcIUt3BXAM/F",
      "include_colab_link": true
    },
    "kernelspec": {
      "name": "python3",
      "display_name": "Python 3"
    },
    "language_info": {
      "name": "python"
    }
  },
  "cells": [
    {
      "cell_type": "markdown",
      "metadata": {
        "id": "view-in-github",
        "colab_type": "text"
      },
      "source": [
        "<a href=\"https://colab.research.google.com/github/brimas3/DATA342-Lab-1/blob/main/DATA342_Lab_1_Code.ipynb\" target=\"_parent\"><img src=\"https://colab.research.google.com/assets/colab-badge.svg\" alt=\"Open In Colab\"/></a>"
      ]
    },
    {
      "cell_type": "code",
      "execution_count": 1,
      "metadata": {
        "colab": {
          "base_uri": "https://localhost:8080/"
        },
        "id": "5vX1YJGsFJIW",
        "outputId": "adf48ac5-d477-49f3-db65-6cbb9f3f04d1"
      },
      "outputs": [
        {
          "output_type": "stream",
          "name": "stdout",
          "text": [
            "Mounted at /content/drive\n"
          ]
        }
      ],
      "source": [
        "# Mount Google Drive\n",
        "\n",
        "from google.colab import drive\n",
        "drive.mount('/content/drive')"
      ]
    },
    {
      "cell_type": "code",
      "source": [
        "# Install Required Libraries\n",
        "\n",
        "!pip install openpyxl matplotlib pandas"
      ],
      "metadata": {
        "colab": {
          "base_uri": "https://localhost:8080/"
        },
        "id": "8Nk8waDaFqCq",
        "outputId": "50f405de-ed27-4df9-abb3-a1ea9c903c97"
      },
      "execution_count": 2,
      "outputs": [
        {
          "output_type": "stream",
          "name": "stdout",
          "text": [
            "Requirement already satisfied: openpyxl in /usr/local/lib/python3.12/dist-packages (3.1.5)\n",
            "Requirement already satisfied: matplotlib in /usr/local/lib/python3.12/dist-packages (3.10.0)\n",
            "Requirement already satisfied: pandas in /usr/local/lib/python3.12/dist-packages (2.2.2)\n",
            "Requirement already satisfied: et-xmlfile in /usr/local/lib/python3.12/dist-packages (from openpyxl) (2.0.0)\n",
            "Requirement already satisfied: contourpy>=1.0.1 in /usr/local/lib/python3.12/dist-packages (from matplotlib) (1.3.3)\n",
            "Requirement already satisfied: cycler>=0.10 in /usr/local/lib/python3.12/dist-packages (from matplotlib) (0.12.1)\n",
            "Requirement already satisfied: fonttools>=4.22.0 in /usr/local/lib/python3.12/dist-packages (from matplotlib) (4.60.1)\n",
            "Requirement already satisfied: kiwisolver>=1.3.1 in /usr/local/lib/python3.12/dist-packages (from matplotlib) (1.4.9)\n",
            "Requirement already satisfied: numpy>=1.23 in /usr/local/lib/python3.12/dist-packages (from matplotlib) (2.0.2)\n",
            "Requirement already satisfied: packaging>=20.0 in /usr/local/lib/python3.12/dist-packages (from matplotlib) (25.0)\n",
            "Requirement already satisfied: pillow>=8 in /usr/local/lib/python3.12/dist-packages (from matplotlib) (11.3.0)\n",
            "Requirement already satisfied: pyparsing>=2.3.1 in /usr/local/lib/python3.12/dist-packages (from matplotlib) (3.2.5)\n",
            "Requirement already satisfied: python-dateutil>=2.7 in /usr/local/lib/python3.12/dist-packages (from matplotlib) (2.9.0.post0)\n",
            "Requirement already satisfied: pytz>=2020.1 in /usr/local/lib/python3.12/dist-packages (from pandas) (2025.2)\n",
            "Requirement already satisfied: tzdata>=2022.7 in /usr/local/lib/python3.12/dist-packages (from pandas) (2025.2)\n",
            "Requirement already satisfied: six>=1.5 in /usr/local/lib/python3.12/dist-packages (from python-dateutil>=2.7->matplotlib) (1.17.0)\n"
          ]
        }
      ]
    },
    {
      "cell_type": "code",
      "source": [
        "# Import Libraries\n",
        "\n",
        "import pandas as pd\n",
        "import matplotlib.pyplot as plt"
      ],
      "metadata": {
        "id": "vlC3haKQF3q1"
      },
      "execution_count": 3,
      "outputs": []
    },
    {
      "cell_type": "code",
      "source": [
        "# Load Excel File\n",
        "\n",
        "import requests\n",
        "import pandas as pd\n",
        "\n",
        "file_id = '14detpDac5-JgJ4prGiXZ2UEJQM3UmzGUnJLZ-ERWT64'\n",
        "url = f'https://docs.google.com/spreadsheets/d/{file_id}/export?format=xlsx'\n",
        "response = requests.get(url)\n",
        "\n",
        "if response.status_code == 200:\n",
        "    with open('DATA342 Lab 1 Data (Netflix vs. Disney).xlsx', 'wb') as f:\n",
        "        f.write(response.content)\n",
        "    df = pd.read_excel('DATA342 Lab 1 Data (Netflix vs. Disney).xlsx', sheet_name='Daily Returns 2024', engine='openpyxl')\n",
        "else:\n",
        "    print(f\"Error downloading file: {response.status_code}\")\n"
      ],
      "metadata": {
        "id": "KhLpZjqJGAym"
      },
      "execution_count": 9,
      "outputs": []
    },
    {
      "cell_type": "code",
      "source": [
        "# Display Sample Rows\n",
        "\n",
        "print(df.head())"
      ],
      "metadata": {
        "colab": {
          "base_uri": "https://localhost:8080/"
        },
        "id": "6AHq263hQtEx",
        "outputId": "ef36c13a-b648-4e0f-e4e5-4f8300de710d"
      },
      "execution_count": 10,
      "outputs": [
        {
          "output_type": "stream",
          "name": "stdout",
          "text": [
            "        Date Ticker  Adj Close  Daily Return\n",
            "0 2024-01-02   NFLX     468.50           NaN\n",
            "1 2024-01-03   NFLX     470.26      0.003757\n",
            "2 2024-01-04   NFLX     474.67      0.009378\n",
            "3 2024-01-05   NFLX     474.06     -0.001285\n",
            "4 2024-01-08   NFLX     485.03      0.023141\n"
          ]
        }
      ]
    },
    {
      "cell_type": "code",
      "source": [
        "# Clean and Format the Data\n",
        "\n",
        "df['Date'] = pd.to_datetime(df['Date'])\n",
        "df = df.dropna(subset=['Daily Return'])"
      ],
      "metadata": {
        "id": "pgxW6XdgQv5X"
      },
      "execution_count": 11,
      "outputs": []
    },
    {
      "cell_type": "code",
      "source": [
        "# Seperate Data\n",
        "\n",
        "nflx_df = df[df['Ticker'] == 'NFLX'].copy()\n",
        "dis_df = df[df['Ticker'] == 'DIS'].copy()"
      ],
      "metadata": {
        "id": "AeF_YGS_Q3nv"
      },
      "execution_count": 12,
      "outputs": []
    },
    {
      "cell_type": "code",
      "source": [
        "# Display Sample Rows\n",
        "\n",
        "print(\"\\nNetflix Daily Returns:\")\n",
        "print(nflx_df[['Date', 'Adj Close', 'Daily Return']].head())\n",
        "\n",
        "print(\"\\nDIS Daily Returns:\")\n",
        "print(dis_df[['Date', 'Adj Close', 'Daily Return']].head())"
      ],
      "metadata": {
        "colab": {
          "base_uri": "https://localhost:8080/"
        },
        "id": "PhVznBPpRHsM",
        "outputId": "3106735f-cb0f-42d7-94d6-e5bcf435fcae"
      },
      "execution_count": 24,
      "outputs": [
        {
          "output_type": "stream",
          "name": "stdout",
          "text": [
            "\n",
            "Netflix Daily Returns:\n",
            "        Date  Adj Close  Daily Return\n",
            "1 2024-01-03     470.26      0.003757\n",
            "2 2024-01-04     474.67      0.009378\n",
            "3 2024-01-05     474.06     -0.001285\n",
            "4 2024-01-08     485.03      0.023141\n",
            "5 2024-01-09     482.09     -0.006061\n",
            "\n",
            "DIS Daily Returns:\n",
            "          Date  Adj Close  Daily Return\n",
            "251 2024-01-03      90.44     -0.899559\n",
            "252 2024-01-04      89.37     -0.011831\n",
            "253 2024-01-05      89.70      0.003693\n",
            "254 2024-01-08      90.34      0.007135\n",
            "255 2024-01-09      88.49     -0.020478\n"
          ]
        }
      ]
    },
    {
      "cell_type": "code",
      "source": [
        "plt.figure(figsize=(12, 8))\n",
        "plt.boxplot([nflx_df['Daily Return'], dis_df['Daily Return']], labels=['NFLX', 'DIS'])\n",
        "plt.title('Box-and-Whisker Plot of Daily Returns')\n",
        "plt.ylabel('Daily Return')\n",
        "plt.ylim(-0.05, 0.05)\n",
        "plt.grid(True)\n",
        "plt.show()"
      ],
      "metadata": {
        "colab": {
          "base_uri": "https://localhost:8080/",
          "height": 753
        },
        "id": "TkCrVbo-StIw",
        "outputId": "805a571a-5d30-4318-c63a-8ecded92fc44"
      },
      "execution_count": 25,
      "outputs": [
        {
          "output_type": "stream",
          "name": "stderr",
          "text": [
            "/tmp/ipython-input-2952745585.py:2: MatplotlibDeprecationWarning: The 'labels' parameter of boxplot() has been renamed 'tick_labels' since Matplotlib 3.9; support for the old name will be dropped in 3.11.\n",
            "  plt.boxplot([nflx_df['Daily Return'], dis_df['Daily Return']], labels=['NFLX', 'DIS'])\n"
          ]
        },
        {
          "output_type": "display_data",
          "data": {
            "text/plain": [
              "<Figure size 1200x800 with 1 Axes>"
            ],
            "image/png": "[encoded data removed]"
          },
          "metadata": {}
        }
      ]
    }
  ]
}